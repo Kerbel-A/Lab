{
 "cells": [
  {
   "cell_type": "code",
   "execution_count": null,
   "id": "7c8a460d",
   "metadata": {},
   "outputs": [],
   "source": [
    "class Soluclass Solution:\n",
    "    def findKthPositive(self, arr: List[int], k: int) -> int:\n",
    "        n = len(arr)\n",
    "        left, right = 0, n\n",
    "        while left < right:\n",
    "            mid = (left + right)//2\n",
    "            count = arr[mid] - mid - 1\n",
    "            if count < k:\n",
    "                left = mid + 1\n",
    "            else:\n",
    "                right = mid\n",
    "        \n",
    "        if right == 0:\n",
    "            return k\n",
    "        missing = arr[right-1] - right\n",
    "        return arr[right-1] + k - missing"
   ]
  }
 ],
 "metadata": {
  "kernelspec": {
   "display_name": "Python 3 (ipykernel)",
   "language": "python",
   "name": "python3"
  },
  "language_info": {
   "codemirror_mode": {
    "name": "ipython",
    "version": 3
   },
   "file_extension": ".py",
   "mimetype": "text/x-python",
   "name": "python",
   "nbconvert_exporter": "python",
   "pygments_lexer": "ipython3",
   "version": "3.9.12"
  }
 },
 "nbformat": 4,
 "nbformat_minor": 5
}
