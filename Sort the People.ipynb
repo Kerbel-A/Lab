{
 "cells": [
  {
   "cell_type": "code",
   "execution_count": null,
   "id": "ef380fc7",
   "metadata": {},
   "outputs": [],
   "source": [
    "class Solution:\n",
    "    def sortPeople(self, names: List[str], heights: List[int]) -> List[str]:\n",
    "        length = len(names)\n",
    "        for i in range (length-1):\n",
    "            for j in range (i+1, length):\n",
    "                if heights[i]<heights[j]:\n",
    "                    names[i], names[j] = names[j], names[i]\n",
    "                    heights[i], heights[j] = heights[j], heights[i]\n",
    "        return names"
   ]
  }
 ],
 "metadata": {
  "kernelspec": {
   "display_name": "Python 3 (ipykernel)",
   "language": "python",
   "name": "python3"
  },
  "language_info": {
   "codemirror_mode": {
    "name": "ipython",
    "version": 3
   },
   "file_extension": ".py",
   "mimetype": "text/x-python",
   "name": "python",
   "nbconvert_exporter": "python",
   "pygments_lexer": "ipython3",
   "version": "3.9.12"
  }
 },
 "nbformat": 4,
 "nbformat_minor": 5
}
