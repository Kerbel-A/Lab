{
 "cells": [
  {
   "cell_type": "code",
   "execution_count": null,
   "id": "4918c552",
   "metadata": {},
   "outputs": [],
   "source": [
    "class Solution:\n",
    "    def peakIndexInMountainArray(self, arr: List[int]) -> int:\n",
    "        if len(arr) < 3:\n",
    "            return -1\n",
    "        lo = 0\n",
    "        hi = len(arr) - 1\n",
    "        while lo <= hi:\n",
    "            mid = (lo + hi) // 2\n",
    "            if arr[mid] > arr[mid + 1] and arr[mid] > arr [mid - 1]:\n",
    "                return mid\n",
    "            elif arr[mid] > arr[mid-1]:\n",
    "                lo = mid \n",
    "            else:\n",
    "                hi = mid"
   ]
  }
 ],
 "metadata": {
  "kernelspec": {
   "display_name": "Python 3 (ipykernel)",
   "language": "python",
   "name": "python3"
  },
  "language_info": {
   "codemirror_mode": {
    "name": "ipython",
    "version": 3
   },
   "file_extension": ".py",
   "mimetype": "text/x-python",
   "name": "python",
   "nbconvert_exporter": "python",
   "pygments_lexer": "ipython3",
   "version": "3.9.12"
  }
 },
 "nbformat": 4,
 "nbformat_minor": 5
}
