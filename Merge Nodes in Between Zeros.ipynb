{
 "cells": [
  {
   "cell_type": "code",
   "execution_count": null,
   "id": "2dc3083d",
   "metadata": {},
   "outputs": [],
   "source": [
    "# Definition for singly-linked list.\n",
    "# class ListNode:\n",
    "#     def __init__(self, val=0, next=None):\n",
    "#         self.val = val\n",
    "#         self.next = next\n",
    "class Solution:\n",
    "    def mergeNodes(self, head: Optional[ListNode]) -> Optional[ListNode]:\n",
    "        res=tail=ListNode()\n",
    "        s=0\n",
    "        new=head.next\n",
    "        while new:\n",
    "            if new.val != 0:\n",
    "                s+=new.val\n",
    "            else:\n",
    "                tail.next=ListNode(s)\n",
    "                tail=tail.next\n",
    "                s = 0\n",
    "            new=new.next\n",
    "        return res.next"
   ]
  }
 ],
 "metadata": {
  "kernelspec": {
   "display_name": "Python 3 (ipykernel)",
   "language": "python",
   "name": "python3"
  },
  "language_info": {
   "codemirror_mode": {
    "name": "ipython",
    "version": 3
   },
   "file_extension": ".py",
   "mimetype": "text/x-python",
   "name": "python",
   "nbconvert_exporter": "python",
   "pygments_lexer": "ipython3",
   "version": "3.9.12"
  }
 },
 "nbformat": 4,
 "nbformat_minor": 5
}
