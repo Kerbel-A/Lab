{
 "cells": [
  {
   "cell_type": "code",
   "execution_count": null,
   "id": "2a495a51",
   "metadata": {},
   "outputs": [],
   "source": [
    "class Solution:\n",
    "    def sortedSquares(self, nums: List[int]) -> List[int]:\n",
    "        start = 0\n",
    "        end = len(nums)-1\n",
    "        B = []\n",
    "        while start <= end:\n",
    "            if abs(nums[start]) >= abs(nums[end]):\n",
    "                B.append(nums[start] * nums[start])\n",
    "                start += 1\n",
    "            else:\n",
    "                B.append(nums[end] * nums[end])\n",
    "                end -= 1\n",
    "        B.reverse()\n",
    "        return B"
   ]
  }
 ],
 "metadata": {
  "kernelspec": {
   "display_name": "Python 3 (ipykernel)",
   "language": "python",
   "name": "python3"
  },
  "language_info": {
   "codemirror_mode": {
    "name": "ipython",
    "version": 3
   },
   "file_extension": ".py",
   "mimetype": "text/x-python",
   "name": "python",
   "nbconvert_exporter": "python",
   "pygments_lexer": "ipython3",
   "version": "3.9.12"
  }
 },
 "nbformat": 4,
 "nbformat_minor": 5
}
