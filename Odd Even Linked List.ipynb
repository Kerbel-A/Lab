{
 "cells": [
  {
   "cell_type": "code",
   "execution_count": null,
   "id": "4ea94146",
   "metadata": {},
   "outputs": [],
   "source": [
    "# Definition for singly-linked list.\n",
    "# class ListNode:\n",
    "#     def __init__(self, val=0, next=None):\n",
    "#         self.val = val\n",
    "#         self.next = next\n",
    "class Solution:\n",
    "    def oddEvenList(self, head: Optional[ListNode]) -> Optional[ListNode]:\n",
    "        odd_head = ListNode(0)\n",
    "        odd = odd_head\n",
    "        even_head = ListNode(0)\n",
    "        even = even_head\n",
    "        count = 0\n",
    "        while head != None:\n",
    "            if count % 2 == 0:\n",
    "                odd.next = head\n",
    "                odd = head\n",
    "            else:\n",
    "                even.next = head\n",
    "                even = head\n",
    "            count += 1\n",
    "            head = head.next \n",
    "        even.next = None\n",
    "        odd.next = even_head.next\n",
    "        return odd_head.next"
   ]
  }
 ],
 "metadata": {
  "kernelspec": {
   "display_name": "Python 3 (ipykernel)",
   "language": "python",
   "name": "python3"
  },
  "language_info": {
   "codemirror_mode": {
    "name": "ipython",
    "version": 3
   },
   "file_extension": ".py",
   "mimetype": "text/x-python",
   "name": "python",
   "nbconvert_exporter": "python",
   "pygments_lexer": "ipython3",
   "version": "3.9.12"
  }
 },
 "nbformat": 4,
 "nbformat_minor": 5
}
