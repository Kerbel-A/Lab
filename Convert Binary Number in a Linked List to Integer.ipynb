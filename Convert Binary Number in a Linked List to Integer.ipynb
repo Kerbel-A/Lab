{
 "cells": [
  {
   "cell_type": "code",
   "execution_count": null,
   "id": "39c448d3",
   "metadata": {},
   "outputs": [],
   "source": [
    "# Definition for singly-linked list.\n",
    "# class ListNode:\n",
    "#     def __init__(self, val=0, next=None):\n",
    "#         self.val = val\n",
    "#         self.next = next\n",
    "class Solution:\n",
    "    def getDecimalValue(self, head: ListNode) -> int:\n",
    "        binary_numbers_list = []\n",
    "        binary_numbers_list.append(head.val)\n",
    "        while(head.next is not None):\n",
    "            head = head.next\n",
    "            binary_numbers_list.append(head.val)\n",
    "        answer = 0\n",
    "        power = 0\n",
    "        # from len(binary_numbers_list) - 1 -> 0\n",
    "        for digit in range(len(binary_numbers_list) - 1, -1, -1):\n",
    "            if(binary_numbers_list[digit] > 0):\n",
    "                answer += ((2 ** power) * binary_numbers_list[digit])\n",
    "            power += 1\n",
    "        return answer"
   ]
  }
 ],
 "metadata": {
  "kernelspec": {
   "display_name": "Python 3 (ipykernel)",
   "language": "python",
   "name": "python3"
  },
  "language_info": {
   "codemirror_mode": {
    "name": "ipython",
    "version": 3
   },
   "file_extension": ".py",
   "mimetype": "text/x-python",
   "name": "python",
   "nbconvert_exporter": "python",
   "pygments_lexer": "ipython3",
   "version": "3.9.12"
  }
 },
 "nbformat": 4,
 "nbformat_minor": 5
}
